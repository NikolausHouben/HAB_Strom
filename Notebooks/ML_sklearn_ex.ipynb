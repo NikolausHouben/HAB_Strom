{
  "nbformat": 4,
  "nbformat_minor": 0,
  "metadata": {
    "colab": {
      "provenance": [],
      "collapsed_sections": []
    },
    "kernelspec": {
      "name": "python3",
      "display_name": "Python 3"
    },
    "language_info": {
      "name": "python"
    }
  },
  "cells": [
    {
      "cell_type": "code",
      "execution_count": null,
      "metadata": {
        "id": "l7-5KzmXh_GN"
      },
      "outputs": [],
      "source": [
        "import os\n",
        "import matplotlib.pyplot as plt\n",
        "import pandas as pd\n",
        "import numpy as np\n",
        "from scipy import stats\n",
        "from statsmodels.graphics.tsaplots import plot_acf,plot_pacf\n",
        "import plotly.express as px\n",
        "from statsmodels.tsa.stattools import adfuller\n",
        "from sklearn.linear_model import LinearRegression\n",
        "from sklearn.preprocessing import MinMaxScaler\n",
        "from sklearn.metrics import mean_squared_error"
      ]
    },
    {
      "cell_type": "code",
      "source": [
        "!curl -L https://github.com/NikolausHouben/HAB_Strom/blob/d0ac42bb653de446ab88d503a90433519dff6bfb/Daten/data_1.csv\\?raw\\=true -o data_1.csv\n",
        "df_1 = pd.read_csv(\"data_1.csv\", index_col = 0, parse_dates = True).resample(\"60T\").mean()\n",
        "\n",
        "!curl -L https://github.com/NikolausHouben/HAB_Strom/blob/d0ac42bb653de446ab88d503a90433519dff6bfb/Daten/data_2.csv\\?raw\\=true -o data_2.csv\n",
        "df_2 = pd.read_csv(\"data_2.csv\", index_col = 0, parse_dates = True).resample(\"60T\").mean()"
      ],
      "metadata": {
        "id": "4VWi_CYh1I8U"
      },
      "execution_count": null,
      "outputs": []
    },
    {
      "cell_type": "markdown",
      "metadata": {
        "id": "VPgyw5c_SDZP"
      },
      "source": [
        "## Feature Engineering"
      ]
    },
    {
      "cell_type": "markdown",
      "metadata": {
        "id": "c3mKoZndl3h4"
      },
      "source": [
        "### Skalierung der Zeitreihe"
      ]
    },
    {
      "cell_type": "code",
      "source": [
        "df_1.head()"
      ],
      "metadata": {
        "id": "79rDwaY_17II"
      },
      "execution_count": null,
      "outputs": []
    },
    {
      "cell_type": "code",
      "execution_count": null,
      "metadata": {
        "id": "zRMNuqFGl1xc"
      },
      "outputs": [],
      "source": [
        "scaler = MinMaxScaler()\n",
        "df_1[df_1.columns] = scaler.fit_transform(df_1[df_1.columns])\n",
        "df_1.head()"
      ]
    },
    {
      "cell_type": "markdown",
      "metadata": {
        "id": "NRUO9bx3YUA7"
      },
      "source": [
        "### Autokorrelation: Lags"
      ]
    },
    {
      "cell_type": "markdown",
      "metadata": {
        "id": "vUtFD2EgYSoW"
      },
      "source": []
    },
    {
      "cell_type": "code",
      "execution_count": null,
      "metadata": {
        "id": "jpFtsukGSDZP"
      },
      "outputs": [],
      "source": [
        "def create_lag_variables(\n",
        "    df, number_of_timesteps_in_season, number_of_lags=3, keep_first_col=True\n",
        "):\n",
        "\n",
        "    \"\"\"\n",
        "    Create a number of lag features for a dataframe with one column:\n",
        "    'number_of_timesteps_in_season': how many timesteps make up one season (the interval between lag features)\n",
        "    'number_of_lags': how many lag features\n",
        "    \"\"\"\n",
        "\n",
        "    if number_of_timesteps_in_season <= 0 or type(number_of_timesteps_in_season) != int:\n",
        "        raise ValueError(\n",
        "            \"Input a positive integer for 'number_of_timesteps_in_season.'\"\n",
        "        )\n",
        "\n",
        "    df_appended = df.copy()\n",
        "    for i in range(1, number_of_lags + 1):\n",
        "        lagged = df_appended.iloc[:, :1].shift((i) * number_of_timesteps_in_season)\n",
        "        lagged.columns = [\n",
        "            df_appended.columns[0]\n",
        "            + \"_lag_season_\"\n",
        "            + str(number_of_timesteps_in_season)\n",
        "            + \"-\"\n",
        "            + str(i)\n",
        "        ]\n",
        "        df_appended = pd.merge(\n",
        "            df_appended, lagged, left_index=True, right_index=True, how=\"left\"\n",
        "        )\n",
        "\n",
        "    if keep_first_col:\n",
        "        df_return = pd.concat(\n",
        "            [df.iloc[:, :1], df_appended.iloc[:, 1:]], axis=1\n",
        "        ).dropna()\n",
        "    else:\n",
        "        df_return = df_appended.iloc[:, 1:]\n",
        "\n",
        "    return df_return\n",
        "\n",
        "\n",
        "def create_lag_features(df, lag_dict):\n",
        "\n",
        "    df_ = create_lag_variables(\n",
        "        df,\n",
        "        lag_dict[\"autoregressive\"][1],\n",
        "        lag_dict[\"autoregressive\"][0],\n",
        "    )\n",
        "\n",
        "    df__ = create_lag_variables(\n",
        "        df,\n",
        "        lag_dict[\"seasonal\"][1],\n",
        "        lag_dict[\"seasonal\"][0],\n",
        "        False,\n",
        "    )\n",
        "\n",
        "    df_return = pd.concat([df_, df__], axis=1)\n",
        "\n",
        "    return df_return\n"
      ]
    },
    {
      "cell_type": "code",
      "execution_count": null,
      "metadata": {
        "id": "mHUmRD9LZJ_V"
      },
      "outputs": [],
      "source": [
        "lag_dict = {\"autoregressive\": (48,1), \"seasonal\": (3,7*24)} # (anzahl_der_lags, zeitschritt eines lags), ...\n",
        "\n",
        "df_1_lags = create_lag_features(df_1, lag_dict).dropna()\n",
        "\n",
        "df_1_lags.head()"
      ]
    },
    {
      "cell_type": "markdown",
      "metadata": {
        "id": "VJpaaE2DY9V3"
      },
      "source": [
        "### Periodizität: Datetime Features"
      ]
    },
    {
      "cell_type": "code",
      "execution_count": null,
      "metadata": {
        "id": "yRaUpWPISDZP"
      },
      "outputs": [],
      "source": [
        "def get_timestep_interval(df):\n",
        "    \"\"\"Infers the interval of the DateTimeIndex of a pd.DataFrame in seconds.\"\"\"\n",
        "    timesteplens = []\n",
        "    for i in range((int(df.shape[0] * 0.5))):\n",
        "        diff = df.index[i + 1] - df.index[i]\n",
        "        timesteplen = int(diff.total_seconds())\n",
        "        timesteplens.append(timesteplen)\n",
        "    timesteplen_final = int(stats.mode(np.array(timesteplens)).mode[0])\n",
        "\n",
        "    return timesteplen_final\n",
        "\n",
        "def timestep_of_day_maker(df):\n",
        "\n",
        "    df_ = df.copy()\n",
        "    timesteplen = get_timestep_interval(df_) / 60\n",
        "    interval = int(timesteplen)\n",
        "    if timesteplen < 60 * 24:\n",
        "        df_[\"timestep_of_the_day\"] = df_.index.hour * (\n",
        "            60 / interval\n",
        "        ) + df_.index.minute / (interval)\n",
        "\n",
        "    else:\n",
        "        df_[\"timestep_of_the_day\"] = 1\n",
        "    df_[\"weekday\"] = df_.index.dayofweek + 1\n",
        "    df_[\"month\"] = df_.index.month\n",
        "    return df_\n",
        "\n",
        "\n",
        "def trig_datetime_encoder(df, cycle_1, cycle_2=None):\n",
        "\n",
        "    \"\"\"\n",
        "    Encoding datetime features into trigonometric features (better when model should respect periodicity in data).\n",
        "    Two cycles of the following are allowed: \"weekday, timestep_of_the_day, month\".\n",
        "    The second cycle is optional.\n",
        "    'timesteplen': minutes from one timestep to the next\n",
        "    \"\"\"\n",
        "    df_ = timestep_of_day_maker(df)\n",
        "    periods_dict = {\n",
        "        \"weekday\": 7,\n",
        "        \"timestep_of_the_day\": df_[\"timestep_of_the_day\"].max(),\n",
        "        \"month\": 12,\n",
        "        None: 1,\n",
        "    }\n",
        "\n",
        "    # input checks\n",
        "    if cycle_1 not in list(periods_dict.keys()):\n",
        "        raise ValueError(\n",
        "            \"Make sure your cycles are in ['weekday', 'timestep_of_the_day', 'month'].\"\n",
        "        )\n",
        "    if cycle_2 not in list(periods_dict.keys()):\n",
        "        raise ValueError(\n",
        "            \"Make sure your cycles are in ['weekday', 'timestep_of_the_day', 'month'].\"\n",
        "        )\n",
        "\n",
        "    # column creation\n",
        "    df_[cycle_1 + \"_sin\"] = df_[cycle_1].apply(\n",
        "        lambda x: np.sin(x / periods_dict[cycle_1] * 2 * np.pi)\n",
        "    )\n",
        "    df_[cycle_1 + \"_cos\"] = df_[cycle_1].apply(\n",
        "        lambda x: np.cos(x / periods_dict[cycle_1] * 2 * np.pi)\n",
        "    )\n",
        "    if cycle_2 != None:\n",
        "        df_[cycle_2 + \"_sin\"] = df_[cycle_2].apply(\n",
        "            lambda x: np.sin(x / periods_dict[cycle_2] * 2 * np.pi)\n",
        "        )\n",
        "        df_[cycle_2 + \"_cos\"] = df_[cycle_2].apply(\n",
        "            lambda x: np.cos(x / periods_dict[cycle_2] * 2 * np.pi)\n",
        "        )\n",
        "\n",
        "    df_ = df_.drop([\"weekday\", \"timestep_of_the_day\", \"month\"], axis=1)\n",
        "    return df_"
      ]
    },
    {
      "cell_type": "code",
      "execution_count": null,
      "metadata": {
        "id": "BwkaSf1RZKid"
      },
      "outputs": [],
      "source": [
        "df_1_trig = trig_datetime_encoder(df_1, \"timestep_of_the_day\", \"weekday\")\n",
        "df_1_trig.head()"
      ]
    },
    {
      "cell_type": "code",
      "execution_count": null,
      "metadata": {
        "id": "N3GbHaj2jRgt"
      },
      "outputs": [],
      "source": [
        "px.line(df_1_trig.iloc[:192,1:])"
      ]
    },
    {
      "cell_type": "code",
      "execution_count": null,
      "metadata": {
        "id": "6WmDtnEXnG_p"
      },
      "outputs": [],
      "source": [
        "df_1_features = pd.merge(df_1_lags, df_1_trig.iloc[:,1:], left_index = True, right_index= True)\n",
        "\n",
        "df_1_features.head()"
      ]
    },
    {
      "cell_type": "markdown",
      "metadata": {
        "id": "W4ueCp--kJsG"
      },
      "source": [
        "### Linear Regression"
      ]
    },
    {
      "cell_type": "markdown",
      "metadata": {
        "id": "YFbAcnL4keRL"
      },
      "source": [
        "### Sklearn (Normal Equation) – Die Parameter der Linearen Regression können durch ein Lineares Gleichungssystem gelöst werden. Die Sklearn-Implementierung verwendet diese herangehensweise. Diese ist schneller als die iterative \"Stochastic Gradient Descent\" Methode, welche im Anschluss vorgestellt werd.\n",
        "\n",
        "![NormalEquation.png](data:image/png;base64,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)\n",
        "\n",
        "\n"
      ]
    },
    {
      "cell_type": "code",
      "execution_count": null,
      "metadata": {
        "id": "Y3qkz_N0nh2P"
      },
      "outputs": [],
      "source": [
        "# Aufgabe 1: Teile den Datensatz (df_1) in ein Trainings und Test Set mit einem Verhältnis 80/20 auf.\n",
        "\n",
        "# CODE"
      ]
    },
    {
      "cell_type": "code",
      "execution_count": null,
      "metadata": {
        "id": "Ud35OOTcmFc0"
      },
      "outputs": [],
      "source": [
        "# Aufgabe 2: Importiere das Lineare Regressions Model von Sklearn und rufe .fit auf, um es zu trainieren.\n",
        "\n",
        "# CODE..."
      ]
    },
    {
      "cell_type": "markdown",
      "metadata": {
        "id": "VjsSAD_ipXZL"
      },
      "source": [
        "### One-Step Regression"
      ]
    },
    {
      "cell_type": "code",
      "execution_count": null,
      "metadata": {
        "id": "5MfIQ5ShpY0q"
      },
      "outputs": [],
      "source": [
        "predictions = model.predict(X_test)\n",
        "\n",
        "y_test[\"predictions\"] = predictions"
      ]
    },
    {
      "cell_type": "code",
      "execution_count": null,
      "metadata": {
        "id": "NH_YkvgQpv5-"
      },
      "outputs": [],
      "source": [
        "px.line(y_test)"
      ]
    },
    {
      "cell_type": "code",
      "source": [
        "mean_squared_error(scaler.inverse_transform(y_test[\"y_1\"].values.reshape(-1,1)),scaler.inverse_transform(y_test[\"predictions\"].values.reshape(-1,1)), squared = False)"
      ],
      "metadata": {
        "id": "-h8r7Nlf3Ej_"
      },
      "execution_count": null,
      "outputs": []
    },
    {
      "cell_type": "markdown",
      "metadata": {
        "id": "E4durx--rPGh"
      },
      "source": [
        "### Multi-Step Ahead Regression"
      ]
    },
    {
      "cell_type": "markdown",
      "metadata": {
        "id": "eYdM6IhyrUje"
      },
      "source": [
        "Es gibt zwei unterschiedliche Methoden um mehrere Zeitschritte voraus (z.B. Day-ahead) zu prognostizieren: Rekursiv oder Direkt\n",
        "\n",
        "* Der Vorteil an der Direkten Methode ist, dass es keine Fehlerfortplanzung gibt.\n",
        "\n",
        "* Der Nachteil an der Direkten Methode ist, dass man ein Modell pro Zeitschritt trainieren will (für Day-Ahead in 15 Minuten sind das 96 Modelle)\n",
        "\n",
        "Wir verwenden nun die Rekursive Methode, die auch in **Neural Networks** verwendet wird:"
      ]
    },
    {
      "cell_type": "code",
      "execution_count": null,
      "metadata": {
        "id": "AfhgM6A4rSe4"
      },
      "outputs": [],
      "source": [
        "def n_step_recursive_regression(\n",
        "    df_features, model, scaler_target, n_ahead\n",
        "):\n",
        "\n",
        "    y_predictions = df_features.iloc[:, :1].copy()\n",
        "    X_features = df_features.iloc[:, 1:].copy()\n",
        "    number_of_regression_steps = n_ahead\n",
        "\n",
        "    for i in range(X_features.shape[0]):\n",
        "\n",
        "        # CODE:\n",
        "\n",
        "    predictions = scaler_target.inverse_transform(y_predictions)\n",
        "\n",
        "    return predictions"
      ]
    },
    {
      "cell_type": "code",
      "execution_count": null,
      "metadata": {
        "id": "uehurh1yqi7P"
      },
      "outputs": [],
      "source": [
        "df_compares = []\n",
        "n_ahead = 24\n",
        "for start in range(0,24*7*3, n_ahead):\n",
        "  preds = n_step_recursive_regression(test.iloc[start:start+n_ahead,:], model, scaler, n_ahead).squeeze()\n",
        "  gt = scaler.inverse_transform(test.iloc[start:start+n_ahead,:1]).squeeze()\n",
        "  df_compare = pd.DataFrame({\"Ground_Truth\": gt, \"Predictions\": preds}, index = test.iloc[start:start+n_ahead,:1].index)\n",
        "  df_compares.append(df_compare)\n",
        "\n",
        "\n"
      ]
    },
    {
      "cell_type": "code",
      "execution_count": null,
      "metadata": {
        "id": "VCzMt_NQtmHd"
      },
      "outputs": [],
      "source": [
        "df_compare_show = pd.concat(df_compares, axis = 0).sort_index()"
      ]
    },
    {
      "cell_type": "code",
      "execution_count": null,
      "metadata": {
        "id": "92wBbcgstvWF"
      },
      "outputs": [],
      "source": [
        "px.line(df_compare_show)"
      ]
    },
    {
      "cell_type": "code",
      "source": [
        "mean_squared_error(df_compare_show.iloc[:,:1],df_compare_show.iloc[:,1:], squared = False)"
      ],
      "metadata": {
        "id": "6Q3b_rKt2gmA"
      },
      "execution_count": null,
      "outputs": []
    },
    {
      "cell_type": "markdown",
      "source": [
        "### Wieso so viel ungenauer?\n"
      ],
      "metadata": {
        "id": "PgWKhS8L29QR"
      }
    }
  ]
}