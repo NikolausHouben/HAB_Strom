{
  "nbformat": 4,
  "nbformat_minor": 0,
  "metadata": {
    "colab": {
      "provenance": [],
      "collapsed_sections": []
    },
    "kernelspec": {
      "name": "python3",
      "display_name": "Python 3"
    },
    "language_info": {
      "name": "python"
    }
  },
  "cells": [
    {
      "cell_type": "markdown",
      "source": [
        "# Daten Erkundung: Exercise"
      ],
      "metadata": {
        "id": "0tftEqB9iMzp"
      }
    },
    {
      "cell_type": "code",
      "source": [
        "import matplotlib.pyplot as plt\n",
        "import pandas as pd\n",
        "import numpy as np\n",
        "from scipy import stats\n",
        "from statsmodels.graphics.tsaplots import plot_acf,plot_pacf\n",
        "import plotly.express as px\n",
        "from statsmodels.tsa.stattools import adfuller"
      ],
      "metadata": {
        "id": "-M-RZYBvicP9"
      },
      "execution_count": null,
      "outputs": []
    },
    {
      "cell_type": "code",
      "execution_count": null,
      "metadata": {
        "id": "F21Iw6A9iE7A"
      },
      "outputs": [],
      "source": [
        "!curl -L https://github.com/NikolausHouben/HAB_Strom/blob/d0ac42bb653de446ab88d503a90433519dff6bfb/Daten/data_1.csv\\?raw\\=true -o data_1.csv\n",
        "df_1 = pd.read_csv(\"data_1.csv\", index_col = 0, parse_dates = True).resample(\"60T\").mean()\n",
        "\n",
        "!curl -L https://github.com/NikolausHouben/HAB_Strom/blob/d0ac42bb653de446ab88d503a90433519dff6bfb/Daten/data_2.csv\\?raw\\=true -o data_2.csv\n",
        "df_2 = pd.read_csv(\"data_2.csv\", index_col = 0, parse_dates = True).resample(\"60T\").mean()\n",
        "\n"
      ]
    },
    {
      "cell_type": "code",
      "source": [
        "px.line(df_1)"
      ],
      "metadata": {
        "id": "ZW7WiKIaecx3"
      },
      "execution_count": null,
      "outputs": []
    },
    {
      "cell_type": "code",
      "source": [
        "px.line(df_2)"
      ],
      "metadata": {
        "id": "rlBdTBhkd-WH"
      },
      "execution_count": null,
      "outputs": []
    }
  ]
}